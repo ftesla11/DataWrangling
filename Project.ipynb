{
 "cells": [
  {
   "cell_type": "code",
   "execution_count": 64,
   "metadata": {},
   "outputs": [],
   "source": [
    "# read neccessary libraries\n",
    "import numpy as np\n",
    "import pandas as pd\n",
    "import requests\n",
    "import re\n",
    "from bs4 import BeautifulSoup\n",
    "\n",
    "pd.options.display.max_rows = 20\n",
    "\n",
    "np.set_printoptions(precision = 4, suppress = True)"
   ]
  },
  {
   "cell_type": "code",
   "execution_count": 65,
   "metadata": {},
   "outputs": [],
   "source": [
    "def get_team_name(soup):\n",
    "    title = soup.find('title')\n",
    "    pattern = '<title>(.*) Statistics | Premier League</title>'\n",
    "    regex = re.compile(pattern, flags=re.IGNORECASE)\n",
    "    team_name = regex.match(str(title)).groups()[0]\n",
    "    return team_name\n",
    "\n",
    "# Return the filtered club name for the given index \n",
    "def get_premier_teams(target_teams, i):\n",
    "    pattern = '<h4 class=\"clubName\">(.*)<'\n",
    "    regex = re.compile(pattern, flags=re.IGNORECASE)\n",
    "    result = regex.match(str(target_teams[i])).groups()\n",
    "    return result[0]"
   ]
  },
  {
   "cell_type": "code",
   "execution_count": 66,
   "metadata": {},
   "outputs": [
    {
     "data": {
      "text/plain": [
       "['Arsenal',\n",
       " 'Aston Villa',\n",
       " 'AFC Bournemouth',\n",
       " 'Brighton and Hove Albion',\n",
       " 'Burnley',\n",
       " 'Chelsea',\n",
       " 'Crystal Palace',\n",
       " 'Everton',\n",
       " 'Leicester City',\n",
       " 'Liverpool',\n",
       " 'Manchester City',\n",
       " 'Manchester United',\n",
       " 'Newcastle United',\n",
       " 'Norwich City',\n",
       " 'Sheffield United',\n",
       " 'Southampton',\n",
       " 'Tottenham Hotspur',\n",
       " 'Watford',\n",
       " 'West Ham United',\n",
       " 'Wolverhampton Wanderers']"
      ]
     },
     "execution_count": 66,
     "metadata": {},
     "output_type": "execute_result"
    }
   ],
   "source": [
    "# Get the 20 Premier League teams (first division)\n",
    "\n",
    "premier_teams = []\n",
    "url = \"https://www.premierleague.com/clubs?se=210\"\n",
    "res = requests.get(url)\n",
    "soup = BeautifulSoup(res.content)\n",
    "target_teams = soup.find_all('h4', attrs={'clubName'})\n",
    "\n",
    "for i in range(0,20):\n",
    "    premier_teams.append(get_premier_teams(target_teams, i))\n",
    "\n",
    "premier_teams"
   ]
  },
  {
   "cell_type": "code",
   "execution_count": null,
   "metadata": {},
   "outputs": [],
   "source": [
    "headers = ['Team', 'Wins']\n",
    "team_stats = []\n",
    "premier_teams_index = []\n",
    "\n",
    "# Iterate through clubs using numbers 1-46 in the URL\n",
    "# Since the 20 Premier League teams are found in mixed order with second division teams, we have to extract all\n",
    "for team in range(1,46):\n",
    "    url = \"https://www.premierleague.com/clubs/\" + str(team) + \"/club/stats\"  \n",
    "    res = requests.get(url)                                                     \n",
    "    soup = BeautifulSoup(res.content)\n",
    "    \n",
    "    team_name = get_team_name(soup)\n",
    "    \n",
    "    # Filter out FC from the football clubs' names\n",
    "    if 'FC' in team_name:\n",
    "        team_name = team_name[:-3]\n",
    "        \n",
    "    # Filter out teams that aren't in the Premier League\n",
    "    if team_name not in premier_teams:\n",
    "        continue\n",
    "    \n",
    "    # Append the indices (for URL) of the Premier League teams (first division)\n",
    "    premier_teams_index.append(team)    \n",
    "      \n",
    "    # Find all the stats that are enclosed in 'div' classed as normalStat\n",
    "    all_stats = soup.find_all('div', attrs={'normalStat'})                     \n",
    "\n",
    "    stats = [team_name]\n",
    "    \n",
    "    # Find number of wins\n",
    "    win_stats = soup.find_all('div', attrs={'topStat'})[1].findChildren()[0]\n",
    "    pattern = '(.*)\\\\n( *)(.*)'\n",
    "    regex = re.compile(pattern, flags=re.IGNORECASE)\n",
    "    result = regex.match(str(win_stats)).groups()\n",
    "    stats.append(int(result[-1]))\n",
    "    \n",
    "    for i in range(0,26): \n",
    "        \n",
    "        # Filter the first child from each 'div' tag which contains the stat name\n",
    "        span = all_stats[i].findChildren()[0]\n",
    "        \n",
    "        # Only need to extract headers once\n",
    "        if team == 1:                     \n",
    "            pattern = '<span class=\"stat\">(.*)<(.*)'\n",
    "            regex = re.compile(pattern, flags=re.IGNORECASE)\n",
    "            result = regex.match(str(span)).groups()\n",
    "            headers.append(result[0].strip())\n",
    "        \n",
    "        # Extract the statistical data\n",
    "        pattern = '(.*)\\\\n( *)(.*)'\n",
    "        regex = re.compile(pattern, flags=re.IGNORECASE)\n",
    "        result = regex.match(str(span)).groups()\n",
    "                \n",
    "        value = result[2].replace(',', '').replace('%', '')\n",
    "    \n",
    "        # Use float for appropriate values\n",
    "        if (value.isdigit()):\n",
    "            data_value = int(value.replace(',','').replace('%','')) \n",
    "        else:\n",
    "            data_value = float(value.replace(',','').replace('%',''))\n",
    "        stats.append(data_value)\n",
    "        \n",
    "    team_stats.append(stats)"
   ]
  },
  {
   "cell_type": "code",
   "execution_count": null,
   "metadata": {},
   "outputs": [],
   "source": [
    "stats = pd.DataFrame(team_stats, columns=headers).set_index('Team')"
   ]
  },
  {
   "cell_type": "code",
   "execution_count": null,
   "metadata": {},
   "outputs": [],
   "source": [
    "import matplotlib.pyplot as plt\n",
    "\n",
    "corr = stats.corr()\n",
    "fig = plt.figure()\n",
    "ax = fig.add_subplot(111)\n",
    "cax = ax.matshow(corr,cmap='coolwarm', vmin=-1, vmax=1)\n",
    "fig.colorbar(cax)\n",
    "ticks = np.arange(0,len(stats.columns),1)\n",
    "ax.set_xticks(ticks)\n",
    "plt.xticks(rotation=90)\n",
    "ax.set_yticks(ticks)\n",
    "ax.set_xticklabels(stats.columns)\n",
    "ax.set_yticklabels(stats.columns)\n",
    "plt.show()"
   ]
  },
  {
   "cell_type": "code",
   "execution_count": null,
   "metadata": {},
   "outputs": [],
   "source": []
  },
  {
   "cell_type": "code",
   "execution_count": null,
   "metadata": {},
   "outputs": [],
   "source": []
  },
  {
   "cell_type": "code",
   "execution_count": null,
   "metadata": {},
   "outputs": [],
   "source": []
  }
 ],
 "metadata": {
  "kernelspec": {
   "display_name": "Python 3",
   "language": "python",
   "name": "python3"
  },
  "language_info": {
   "codemirror_mode": {
    "name": "ipython",
    "version": 3
   },
   "file_extension": ".py",
   "mimetype": "text/x-python",
   "name": "python",
   "nbconvert_exporter": "python",
   "pygments_lexer": "ipython3",
   "version": "3.6.8"
  }
 },
 "nbformat": 4,
 "nbformat_minor": 2
}
